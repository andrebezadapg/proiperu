{
 "cells": [
  {
   "cell_type": "markdown",
   "metadata": {},
   "source": [
    "# `MIDAS`"
   ]
  },
  {
   "cell_type": "markdown",
   "metadata": {},
   "source": [
    "$ \\textrm{We want to maximize the media-driven NOS of a media plan, by deciding the amount of budget per vehicle that we should spend} $\n",
    "$ \\textrm{for a given brand/market combination on a given period. Specifically,}$<br>\n",
    "<br>\n",
    "$ \\textrm{Given } \\textit{N} \\textrm{ response curves } \\textit{i}:$<br><br>\n",
    "&emsp;&emsp;$ \\textrm{max} \\sum \\limits _{i=1} ^{N} f^{NOS}_{i}(\\tilde{x}_{i})$<br>\n",
    "&emsp;&emsp;&emsp;$ s.t. \\; 1 \\geq \\tilde{x}_{i} \\geq 0 \\;\\;\\;\\;\\;\\;\\;\\;\\;\\;\\;\\;  (1)$ <br>\n",
    "&emsp;&emsp;&emsp;&emsp;&emsp;$    \\; \\sum _{i=1} ^{N} y_{i} \\leq budget \\;\\;\\; (2)$<br><br>\n",
    "\n",
    "&emsp;&emsp;$ \\textrm{where:} $<br> \n",
    "&emsp;&emsp;&emsp;&emsp;$ f^{NOS}_{i} = \\textrm{ fitted } \\textit{NOS}  \\textrm{ function for the } \\textit{i} \\textrm{-th media vehicle}$<br>\n",
    "&emsp;&emsp;&emsp;&emsp;$ \\tilde{x}_{i} = \\textrm{ }\\mathbf{scaled} \\textrm{ total impressions} \\textrm{: } \\tilde{x}_{i} =  \\frac{x_{i} - x_{min}}{x_{max}-x_{min}} $<br>\n",
    "&emsp;&emsp;&emsp;&emsp;$ x_{i} = \\textrm{ total } \\mathbf{impressions} \\textrm{ given spend } y_{i} \\textrm{: } x_{i} = g^{impressions}_{i}(y_{i}) $<br>\n",
    "&emsp;&emsp;&emsp;&emsp;$ g^{impressions}_{i} = \\textrm{ fitted } \\textit{impressions}  \\textrm{ function for the } \\textit{i} \\textrm{-th media vehicle}$<br>\n",
    "&emsp;&emsp;&emsp;&emsp;$ y_{i} = \\textrm{ total } \\mathbf{spend} \\textrm{ on the } \\textit{i} \\textrm{-th media vehicle}$<br>\n"
   ]
  },
  {
   "cell_type": "code",
   "execution_count": 1,
   "metadata": {},
   "outputs": [],
   "source": [
    "from sklearn.preprocessing import MinMaxScaler\n",
    "from scipy.optimize import curve_fit\n",
    "from scipy.optimize import minimize\n",
    "import matplotlib.pyplot as plt\n",
    "import seaborn as sns\n",
    "import pandas as pd\n",
    "import numpy as np\n",
    "import scipy\n",
    "import math"
   ]
  },
  {
   "cell_type": "code",
   "execution_count": 2,
   "metadata": {},
   "outputs": [],
   "source": [
    "import warnings\n",
    "warnings.filterwarnings('ignore')\n",
    "\n",
    "pd.set_option('display.float_format', lambda x: '%.3f' % x)"
   ]
  },
  {
   "cell_type": "code",
   "execution_count": 3,
   "metadata": {},
   "outputs": [
    {
     "ename": "ModuleNotFoundError",
     "evalue": "No module named 'funcs'",
     "output_type": "error",
     "traceback": [
      "\u001b[1;31m---------------------------------------------------------------------------\u001b[0m",
      "\u001b[1;31mModuleNotFoundError\u001b[0m                       Traceback (most recent call last)",
      "\u001b[1;32m~\\AppData\\Local\\Temp\\ipykernel_11036\\1973601632.py\u001b[0m in \u001b[0;36m<module>\u001b[1;34m\u001b[0m\n\u001b[1;32m----> 1\u001b[1;33m \u001b[1;32mfrom\u001b[0m \u001b[0mfuncs\u001b[0m\u001b[1;33m.\u001b[0m\u001b[0mproi\u001b[0m \u001b[1;32mimport\u001b[0m \u001b[1;33m*\u001b[0m\u001b[1;33m\u001b[0m\u001b[1;33m\u001b[0m\u001b[0m\n\u001b[0m",
      "\u001b[1;31mModuleNotFoundError\u001b[0m: No module named 'funcs'"
     ]
    }
   ],
   "source": [
    "from funcs.proi import *"
   ]
  },
  {
   "cell_type": "markdown",
   "metadata": {},
   "source": [
    "---\n",
    "## Load data"
   ]
  },
  {
   "cell_type": "code",
   "execution_count": null,
   "metadata": {},
   "outputs": [],
   "source": [
    "## config\n",
    "config = pd.read_excel('midas-pe-pantene-v2.xlsx')\n",
    "market = config.market.unique()[0]\n",
    "brand = config.brand.unique()[0]"
   ]
  },
  {
   "cell_type": "code",
   "execution_count": null,
   "metadata": {},
   "outputs": [],
   "source": [
    "# data\n",
    "curves = pd.read_csv('input_notebook\\database-curves.csv')\n",
    "financials =  pd.read_excel('input_notebook\\database-financials-v2-pe.xlsx')"
   ]
  },
  {
   "cell_type": "code",
   "execution_count": null,
   "metadata": {
    "code_folding": []
   },
   "outputs": [],
   "source": [
    "# set entity\n",
    "curves = curves.query(f'market == \"{market}\" & brand == \"{brand}\"')\n",
    "vehicles = set([v for v in curves.vehicle.unique()])\n",
    "\n",
    "data_dict = {v: {'data': curves.query(f'vehicle == \"{v}\"')[['Weekly Support','Prediction']]} for v in vehicles}\n",
    "\n",
    "for k in data_dict.keys():\n",
    "    data_dict[k]['cpp'] = financials[(financials.vehicle==k)&(financials.market==market)&(financials.brand==brand)&(financials.metric=='cpp')]['value'].values[0]\n",
    "    \n",
    "    try:\n",
    "        data_dict[k]['spend'] = config[(config.vehicle==k)&(config.metric=='spend')]['value'].values[0]\n",
    "        data_dict[k]['weeks'] = config[(config.vehicle==k)&(config.metric=='weeks')]['value'].values[0]\n",
    "        data_dict[k]['ix_spend'] = config[(config.vehicle==k)&(config.metric=='ix_spend')]['value'].values[0]\n",
    "        data_dict[k]['ix_nos'] = config[(config.vehicle==k)&(config.metric=='ix_nos')]['value'].values[0]\n",
    "        data_dict[k]['imp'] = data_dict[k]['spend'] / data_dict[k]['cpp'] * data_dict[k]['ix_spend'] / data_dict[k]['weeks']\n",
    "    except:\n",
    "        print(f'Missing vehicle: {k}')\n",
    "        data_dict[k]['spend'] = 0\n",
    "        data_dict[k]['weeks'] = 52\n",
    "        data_dict[k]['ix_spend'] = financials[(financials.vehicle==k)&(financials.market=='all')&(financials.metric=='ix_spend')]['value'].values[0]\n",
    "        data_dict[k]['ix_nos'] = financials[(financials.vehicle==k)&(financials.market=='all')&(financials.metric=='ix_nos')]['value'].values[0]\n",
    "        data_dict[k]['imp'] = 0\n",
    "\n",
    "NOS_PER_SU = financials[(financials.vehicle=='total')&(financials.market==market)&(financials.brand==brand)&(financials.metric=='nos_per_su')]['value'].values[0]\n",
    "TOTAL_SPEND = np.sum([data_dict[k]['spend'] for k in data_dict.keys()])"
   ]
  },
  {
   "cell_type": "markdown",
   "metadata": {},
   "source": [
    "---\n",
    "## Fit curves"
   ]
  },
  {
   "cell_type": "code",
   "execution_count": null,
   "metadata": {},
   "outputs": [],
   "source": [
    "# Plot curves\n",
    "plot_curves(data_dict)"
   ]
  },
  {
   "cell_type": "code",
   "execution_count": null,
   "metadata": {},
   "outputs": [],
   "source": [
    "funcs = [hill, poly2, log_, cdf_, weibull]\n",
    "data_dict = fit_curves(funcs=funcs, data_dict=data_dict, poly1d=True)"
   ]
  },
  {
   "cell_type": "code",
   "execution_count": null,
   "metadata": {},
   "outputs": [],
   "source": [
    "plot_fitted_curves(data_dict)"
   ]
  },
  {
   "cell_type": "markdown",
   "metadata": {},
   "source": [
    "---\n",
    "## `MIDAS NOS·Translator`"
   ]
  },
  {
   "cell_type": "code",
   "execution_count": null,
   "metadata": {
    "code_folding": []
   },
   "outputs": [],
   "source": [
    "def objective(x:list) -> float:\n",
    "    '''\n",
    "    Total NOS per SU given impressions per vehicle\n",
    "    \n",
    "    Args:\n",
    "        x: a list with impressions per vehicle\n",
    "\n",
    "    Returns:\n",
    "        Total NOS per SU achieved\n",
    "    '''\n",
    "    return -(NOS_PER_SU * \\\n",
    "             np.sum([get_nos(x[i], data_dict, k) for i, k in enumerate(data_dict.keys())])\n",
    "            )"
   ]
  },
  {
   "cell_type": "code",
   "execution_count": null,
   "metadata": {},
   "outputs": [],
   "source": [
    "actuals = np.array([data_dict[k]['scaler'].transform([[data_dict[k]['imp']]])[0][0] \\\n",
    "              for k in data_dict.keys()])\n",
    "print(f'Current NOS: ${-objective(actuals):,.2f}')\n",
    "print(f'Current ROI: {-objective(actuals)/TOTAL_SPEND:,.2f}')\n",
    "print(f'Total SU: {-objective(actuals)/NOS_PER_SU:,.2f}')\n",
    "\n",
    "print()\n",
    "print('spent')\n",
    "print('-'*20)\n",
    "for i, k in enumerate(data_dict.keys()):\n",
    "    print(f'{k}: ${round(get_spend(actuals[i], data_dict, k)):,.2f}')"
   ]
  },
  {
   "cell_type": "code",
   "execution_count": null,
   "metadata": {},
   "outputs": [],
   "source": [
    "plot_actual_curves(data_dict=data_dict, x=actuals)"
   ]
  },
  {
   "cell_type": "code",
   "execution_count": null,
   "metadata": {},
   "outputs": [],
   "source": [
    "keys = [k for k in data_dict.keys()]\n",
    "values = [round(get_spend(actuals[i], data_dict, k)) for i, k in enumerate(data_dict.keys())]\n",
    "\n",
    "plt.pie(values, labels=keys, colors=sns.color_palette('bright'), autopct='%.0f%%')\n",
    "plt.title('Budget split')\n",
    "plt.show()"
   ]
  },
  {
   "cell_type": "markdown",
   "metadata": {},
   "source": [
    "---"
   ]
  },
  {
   "cell_type": "markdown",
   "metadata": {},
   "source": [
    "## `MIDAS NOS·Optimizer`"
   ]
  },
  {
   "cell_type": "code",
   "execution_count": null,
   "metadata": {
    "code_folding": []
   },
   "outputs": [],
   "source": [
    "def constraint1(x:list) -> float:\n",
    "    '''\n",
    "    Total spend given impressions per vehicle\n",
    "    \n",
    "    Args:\n",
    "        x: a list with impressions per vehicle\n",
    "\n",
    "    Returns:\n",
    "        Exceeding budget spent\n",
    "    '''\n",
    "    return TOTAL_SPEND - \\\n",
    "            np.sum([get_spend(x[i], data_dict, k) for i, k in enumerate(data_dict.keys())])"
   ]
  },
  {
   "cell_type": "code",
   "execution_count": null,
   "metadata": {
    "scrolled": true
   },
   "outputs": [],
   "source": [
    "initial_guess = [np.random.random() for _ in range(len(data_dict.keys()))]\n",
    "cons = [{'type': 'ineq', 'fun': constraint1}]\n",
    "\n",
    "result = minimize(objective, \n",
    "                  initial_guess, \n",
    "                  method = 'trust-constr',\n",
    "                  constraints=cons,\n",
    "                  bounds=[(0.01, 1.1) for _ in range(len(data_dict.keys()))],\n",
    "                  options={'maxiter': 2_000, 'verbose':2},\n",
    "                 )\n",
    "\n",
    "print(result.message)\n",
    "print()\n",
    "print(result.x)"
   ]
  },
  {
   "cell_type": "code",
   "execution_count": null,
   "metadata": {},
   "outputs": [],
   "source": [
    "EPS = 1\n",
    "\n",
    "# re-check constraints!\n",
    "spend_const = (np.sum([get_spend(result.x[i], data_dict, k) for i, k in enumerate(data_dict.keys())]) <= TOTAL_SPEND + EPS)\n",
    "bound_const = (all([(i >= 0) & (i <= 1) for i in [*result.x]]))\n",
    "objective_const = (-objective(actuals) < -objective(result.x))\n",
    "\n",
    "print('constraints')\n",
    "print('-'*13)\n",
    "print(f'Budget: \\t{spend_const}')\n",
    "print(f'Bounds: \\t{bound_const}')\n",
    "print(f'Objective: \\t{objective_const}')"
   ]
  },
  {
   "cell_type": "code",
   "execution_count": null,
   "metadata": {},
   "outputs": [],
   "source": [
    "print(f'Result (NOS): ${-objective(result.x):,.2f} (+${round(-objective(result.x)+objective(actuals)):,.0f})')\n",
    "print(f'Result (ROI): {-objective(result.x)/TOTAL_SPEND:,.2f} ({(-objective(result.x)/TOTAL_SPEND)-(-objective(actuals)/TOTAL_SPEND):,.2f})')\n",
    "print()\n",
    "\n",
    "print('NOS:')\n",
    "print('-'*20)\n",
    "for i, k in enumerate(data_dict.keys()):\n",
    "    print(f'{k}: ${round(get_nos(result.x[i], data_dict, k) * NOS_PER_SU):,.2f}')\n",
    "\n",
    "print()\n",
    "\n",
    "print('spent')\n",
    "print('-'*20)\n",
    "for i, k in enumerate(data_dict.keys()):\n",
    "    print(f'{k}: ${round(get_spend(result.x[i], data_dict, k)):,.2f}')"
   ]
  },
  {
   "cell_type": "code",
   "execution_count": null,
   "metadata": {},
   "outputs": [],
   "source": [
    "keys = [k for k in data_dict.keys()]\n",
    "values = [round(get_spend(result.x[i], data_dict, k)) for i, k in enumerate(data_dict.keys())]\n",
    "\n",
    "plt.pie(values, labels=keys, colors=sns.color_palette('bright'), autopct='%.0f%%')\n",
    "plt.title('Budget split')\n",
    "plt.show()"
   ]
  },
  {
   "cell_type": "code",
   "execution_count": null,
   "metadata": {},
   "outputs": [],
   "source": [
    "plot_solution_curves(data_dict=data_dict, x=result.x, actual=actuals)"
   ]
  },
  {
   "cell_type": "markdown",
   "metadata": {},
   "source": [
    "---"
   ]
  }
 ],
 "metadata": {
  "kernelspec": {
   "display_name": "Python 3 (ipykernel)",
   "language": "python",
   "name": "python3"
  },
  "language_info": {
   "codemirror_mode": {
    "name": "ipython",
    "version": 3
   },
   "file_extension": ".py",
   "mimetype": "text/x-python",
   "name": "python",
   "nbconvert_exporter": "python",
   "pygments_lexer": "ipython3",
   "version": "3.9.13"
  },
  "vscode": {
   "interpreter": {
    "hash": "ad2bdc8ecc057115af97d19610ffacc2b4e99fae6737bb82f5d7fb13d2f2c186"
   }
  }
 },
 "nbformat": 4,
 "nbformat_minor": 4
}
